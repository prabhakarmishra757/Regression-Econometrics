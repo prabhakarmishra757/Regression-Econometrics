{
 "cells": [
  {
   "cell_type": "code",
   "execution_count": 8,
   "id": "469a616b-fe85-4f5a-84c0-a511213a7328",
   "metadata": {
    "tags": []
   },
   "outputs": [
    {
     "name": "stdout",
     "output_type": "stream",
     "text": [
      "   sales  price  advert\n",
      "0   73.2   5.69     1.3\n",
      "1   71.8   6.49     2.9\n",
      "2   62.4   5.63     0.8\n",
      "3   67.4   6.22     0.7\n",
      "4   89.3   5.02     1.5\n"
     ]
    }
   ],
   "source": [
    "import pandas as pd\n",
    "import numpy as np\n",
    "import statsmodels.api as sm\n",
    "import scipy as sc\n",
    "import warnings\n",
    "warnings.filterwarnings('ignore')\n",
    "file_path = \"D:/MBA/Term/MBA Term 4/BAE/Data/SalesData.xlsx\"\n",
    "data= pd.read_excel(file_path)\n",
    "\n",
    "print(data.head())\n"
   ]
  },
  {
   "cell_type": "code",
   "execution_count": 13,
   "id": "ae69a886-6c0d-4653-9896-c010e809d990",
   "metadata": {},
   "outputs": [
    {
     "name": "stdout",
     "output_type": "stream",
     "text": [
      "                            OLS Regression Results                            \n",
      "==============================================================================\n",
      "Dep. Variable:                  sales   R-squared:                       0.448\n",
      "Model:                            OLS   Adj. R-squared:                  0.433\n",
      "Method:                 Least Squares   F-statistic:                     29.25\n",
      "Date:                Wed, 21 Aug 2024   Prob (F-statistic):           5.04e-10\n",
      "Time:                        22:56:11   Log-Likelihood:                -223.87\n",
      "No. Observations:                  75   AIC:                             453.7\n",
      "Df Residuals:                      72   BIC:                             460.7\n",
      "Df Model:                           2                                         \n",
      "Covariance Type:            nonrobust                                         \n",
      "==============================================================================\n",
      "                 coef    std err          t      P>|t|      [0.025      0.975]\n",
      "------------------------------------------------------------------------------\n",
      "const        118.9136      6.352     18.722      0.000     106.252     131.575\n",
      "price         -7.9079      1.096     -7.215      0.000     -10.093      -5.723\n",
      "advert         1.8626      0.683      2.726      0.008       0.501       3.225\n",
      "==============================================================================\n",
      "Omnibus:                        0.535   Durbin-Watson:                   2.183\n",
      "Prob(Omnibus):                  0.765   Jarque-Bera (JB):                0.159\n",
      "Skew:                          -0.072   Prob(JB):                        0.924\n",
      "Kurtosis:                       3.174   Cond. No.                         69.5\n",
      "==============================================================================\n",
      "\n",
      "Notes:\n",
      "[1] Standard Errors assume that the covariance matrix of the errors is correctly specified.\n"
     ]
    }
   ],
   "source": [
    "\n",
    "# Define the dependent variable\n",
    "Y = data['sales']\n",
    "\n",
    "# Define the independent variables and add a constant term\n",
    "X = data[['price', 'advert']]\n",
    "X = sm.add_constant(X)\n",
    "\n",
    "# Fit the model\n",
    "Model = sm.OLS(Y, X).fit()\n",
    "\n",
    "# Print the summary\n",
    "print(Model.summary())\n"
   ]
  },
  {
   "cell_type": "code",
   "execution_count": 10,
   "id": "ad6e113b-ceed-4d13-9cea-c88611b91168",
   "metadata": {
    "tags": []
   },
   "outputs": [
    {
     "name": "stdout",
     "output_type": "stream",
     "text": [
      "                             Test for Constraints                             \n",
      "==============================================================================\n",
      "                 coef    std err          t      P>|t|      [0.025      0.975]\n",
      "------------------------------------------------------------------------------\n",
      "c0            -7.9079      1.096     -7.215      0.000     -10.093      -5.723\n",
      "==============================================================================\n",
      "                             Test for Constraints                             \n",
      "==============================================================================\n",
      "                 coef    std err          t      P>|t|      [0.025      0.975]\n",
      "------------------------------------------------------------------------------\n",
      "c0             1.8626      0.683      2.726      0.008       0.501       3.225\n",
      "==============================================================================\n"
     ]
    }
   ],
   "source": [
    "t_test_p= Model.t_test('price=0')\n",
    "t_test_a= Model.t_test('advert=0')\n",
    "print(t_test_p)\n",
    "print(t_test_a)"
   ]
  },
  {
   "cell_type": "code",
   "execution_count": 14,
   "id": "5083fed3-4f13-437c-b063-590ef59fbce2",
   "metadata": {
    "tags": []
   },
   "outputs": [
    {
     "name": "stdout",
     "output_type": "stream",
     "text": [
      "1.9934635662785827\n"
     ]
    }
   ],
   "source": [
    "from scipy.stats import t\n",
    "df=72\n",
    "alpha=0.05\n",
    "t_critical=t.ppf(1-alpha/2,df)\n",
    "print(t_critical)"
   ]
  },
  {
   "cell_type": "code",
   "execution_count": 12,
   "id": "0234ce86-935d-442b-9d9e-bcfd07d65473",
   "metadata": {
    "tags": []
   },
   "outputs": [
    {
     "name": "stdout",
     "output_type": "stream",
     "text": [
      "[[2.72628309]]\n"
     ]
    }
   ],
   "source": [
    "t_stat_a = t_test_a.statistic\n",
    "print(t_stat_a)"
   ]
  },
  {
   "cell_type": "code",
   "execution_count": 15,
   "id": "53f9f154-d54b-43e0-ad2d-c95ec76696bf",
   "metadata": {
    "tags": []
   },
   "outputs": [
    {
     "name": "stdout",
     "output_type": "stream",
     "text": [
      "H0 is rejected under 5% level of significance\n"
     ]
    }
   ],
   "source": [
    "#Testing Hypothesis for H0\n",
    "\n",
    "if abs(t_stat_a) > abs(t_critical):\n",
    "    print(\"H0 is rejected under 5% level of significance\")\n",
    "else:\n",
    "    print(\"H0 is not rejected under 5% level of significance\")"
   ]
  },
  {
   "cell_type": "code",
   "execution_count": 17,
   "id": "d6c72c93-7b39-4bc0-965d-166237d6e761",
   "metadata": {
    "tags": []
   },
   "outputs": [
    {
     "name": "stdout",
     "output_type": "stream",
     "text": [
      "[[-7.21524149]]\n"
     ]
    }
   ],
   "source": [
    "#Extracting calculated t_statistic for the coefficient of advertisment variable from the model\n",
    "t_stat_p = t_test_p.statistic\n",
    "print(t_stat_p)"
   ]
  },
  {
   "cell_type": "code",
   "execution_count": 18,
   "id": "4dbcaaf8-9afd-48cd-bb5b-362f80d74b99",
   "metadata": {
    "tags": []
   },
   "outputs": [
    {
     "name": "stdout",
     "output_type": "stream",
     "text": [
      "H0 is rejected under 5% level of significance\n"
     ]
    }
   ],
   "source": [
    "if abs(t_stat_p) > abs(t_critical):\n",
    "    print(\"H0 is rejected under 5% level of significance\")\n",
    "else:\n",
    "    print(\"H0 is not rejected under 5% level of significance\")"
   ]
  },
  {
   "cell_type": "code",
   "execution_count": 22,
   "id": "7db5c750-6358-44c0-a9c0-7cfe8a97b613",
   "metadata": {
    "tags": []
   },
   "outputs": [
    {
     "name": "stdout",
     "output_type": "stream",
     "text": [
      "<F test: F=29.24785947967355, p=5.040856696802471e-10, df_denom=72, df_num=2>\n"
     ]
    }
   ],
   "source": [
    "F_test= Model.f_test('price=0, advert=0')\n",
    "print(F_test)"
   ]
  },
  {
   "cell_type": "code",
   "execution_count": 23,
   "id": "59261a63-c9fa-4cbd-991d-617a97e5b54e",
   "metadata": {
    "tags": []
   },
   "outputs": [
    {
     "name": "stdout",
     "output_type": "stream",
     "text": [
      "29.24785947967355\n"
     ]
    }
   ],
   "source": [
    "F_stat=F_test.statistic\n",
    "print(F_stat)"
   ]
  },
  {
   "cell_type": "code",
   "execution_count": 20,
   "id": "b577193d-bd4d-42b8-bc19-2a02c13f56fb",
   "metadata": {
    "tags": []
   },
   "outputs": [
    {
     "name": "stdout",
     "output_type": "stream",
     "text": [
      "3.884501393488646\n"
     ]
    }
   ],
   "source": [
    "from scipy.stats import f\n",
    "\n",
    "df_num = 2\n",
    "df_denom = 72\n",
    "alpha = 0.05\n",
    "# Calculate the critical value for the F-distribution\n",
    "F_critical = f.ppf(1 - alpha/2, df_num, df_denom)\n",
    "\n",
    "print(F_critical)\n"
   ]
  },
  {
   "cell_type": "code",
   "execution_count": 24,
   "id": "f6630c71-c29a-4810-955c-d295b8d2eb72",
   "metadata": {},
   "outputs": [
    {
     "name": "stdout",
     "output_type": "stream",
     "text": [
      "H0 is rejected under 5% level of significance\n"
     ]
    }
   ],
   "source": [
    "#Testing joint hypothesis for H0 under 5% level of significance\n",
    "\n",
    "if abs(F_stat) > abs(F_critical):\n",
    "    print(\"H0 is rejected under 5% level of significance\")\n",
    "else:\n",
    "    print(\"H0 is not rejected under 5% level of significance\")"
   ]
  },
  {
   "cell_type": "code",
   "execution_count": 26,
   "id": "99553bcc-1094-4e79-a5b3-fab51074331e",
   "metadata": {
    "tags": []
   },
   "outputs": [],
   "source": [
    "#Computing fitted values. Calculating RSS ESS TSS\n",
    "Y_hat = Model.fittedvalues\n",
    "Y_bar = np.mean(Y)\n",
    "\n",
    "RSS = np.sum((Y-Y_hat)**2)\n",
    "ESS = np.sum((Y_hat-Y_bar)**2)\n",
    "TSS = np.sum((Y-Y_bar)**2)"
   ]
  },
  {
   "cell_type": "code",
   "execution_count": null,
   "id": "9278af9a-9d1c-4c60-9bf3-9937b99533b9",
   "metadata": {
    "tags": []
   },
   "outputs": [],
   "source": [
    "print(RSS)\n",
    "print(ESS)\n",
    "print(RSS+ESS)\n",
    "print(TSS)"
   ]
  },
  {
   "cell_type": "markdown",
   "id": "739ca2b5-e557-47f0-9eba-bfbc2d5d00ee",
   "metadata": {},
   "source": [
    "R-squared= ESS/TSS= 1-RSS/TSS"
   ]
  },
  {
   "cell_type": "code",
   "execution_count": 28,
   "id": "6c09d353-6566-4a91-a689-be8a7ee7323f",
   "metadata": {
    "tags": []
   },
   "outputs": [],
   "source": [
    "#Extracting R-square from summary statistics\n",
    "R_squared = Model.rsquared\n",
    "\n",
    "#R-square using ESS and TSS\n",
    "R_squared_e = ESS/TSS\n",
    "\n",
    "#R-square using RSS and TSS\n",
    "R_squared_r = 1-RSS/TSS"
   ]
  },
  {
   "cell_type": "code",
   "execution_count": 31,
   "id": "132e651f-18e7-4b5e-b1af-69f4829785a2",
   "metadata": {
    "tags": []
   },
   "outputs": [
    {
     "name": "stdout",
     "output_type": "stream",
     "text": [
      "0.4482577622149436\n",
      "0.44825776221494323\n",
      "0.44825776221494373\n"
     ]
    }
   ],
   "source": [
    "print(R_squared_r)\n",
    "print(R_squared_e)\n",
    "print(R_squared)"
   ]
  },
  {
   "cell_type": "markdown",
   "id": "741dc1e5-d029-4ca3-9ba8-031712591682",
   "metadata": {},
   "source": [
    "Calculating Variance Inflating Factor(VIF)\n",
    "\n",
    "VIF is a measure of regression multicollinearity i.e. dependency of one independent variable on another in the regression system.\n",
    "\n",
    "VIF = 1: No correlation\n",
    "\n",
    "1<VIF<5: Low multicollinearity\n",
    "\n",
    "VIF>5: High multicollinearity\n"
   ]
  },
  {
   "cell_type": "code",
   "execution_count": 32,
   "id": "7cb647b3-31a4-4b1c-a770-b6c5f5efdfa0",
   "metadata": {
    "tags": []
   },
   "outputs": [
    {
     "name": "stdout",
     "output_type": "stream",
     "text": [
      "  feature         VIF\n",
      "0   const  126.737084\n",
      "1   price    1.000696\n",
      "2  advert    1.000696\n"
     ]
    }
   ],
   "source": [
    "#Computing VIF\n",
    "from statsmodels.stats.outliers_influence import variance_inflation_factor\n",
    "from statsmodels.tools.tools import add_constant\n",
    "vif_data = pd.DataFrame()\n",
    "vif_data[\"feature\"] = X.columns\n",
    "vif_data[\"VIF\"] = [variance_inflation_factor(X.values,i)\n",
    "                   for i in range(X.shape[1])]\n",
    "print(vif_data)"
   ]
  },
  {
   "cell_type": "code",
   "execution_count": 33,
   "id": "3c1a8f5c-c456-4b37-ae51-b13d33251524",
   "metadata": {
    "tags": []
   },
   "outputs": [],
   "source": [
    "#Prepairing for BP test\n",
    "\n",
    "Mat_X = Model.model.exog\n",
    "Y_resid = Model.resid"
   ]
  },
  {
   "cell_type": "code",
   "execution_count": 34,
   "id": "6e58c6c5-66f7-4a53-82c7-60217b5cc568",
   "metadata": {
    "tags": []
   },
   "outputs": [
    {
     "name": "stdout",
     "output_type": "stream",
     "text": [
      "LM Statistic:2.5722229762860813\n",
      "LM p-value:0.276343260613086\n",
      "F statistic:1.278515383897261\n",
      "F p-value:0.28469519043223634\n"
     ]
    }
   ],
   "source": [
    "#Performing and presenting BP test of heteroschedasticity\n",
    "\n",
    "from statsmodels.stats.diagnostic import het_breuschpagan\n",
    "\n",
    "BP = het_breuschpagan(Y_resid,Mat_X)\n",
    "\n",
    "BP_labels = {\n",
    "    'LM Statistic':BP[0],\n",
    "    'LM p-value': BP[1],\n",
    "    'F statistic': BP[2],\n",
    "    'F p-value': BP[3]\n",
    "}\n",
    "\n",
    "for label, value in BP_labels.items():\n",
    "    print(f\"{label}:{value}\")"
   ]
  },
  {
   "cell_type": "code",
   "execution_count": null,
   "id": "25c154a1-19fa-4e35-bddc-ad483e017499",
   "metadata": {},
   "outputs": [],
   "source": []
  }
 ],
 "metadata": {
  "kernelspec": {
   "display_name": "Python 3 (ipykernel)",
   "language": "python",
   "name": "python3"
  },
  "language_info": {
   "codemirror_mode": {
    "name": "ipython",
    "version": 3
   },
   "file_extension": ".py",
   "mimetype": "text/x-python",
   "name": "python",
   "nbconvert_exporter": "python",
   "pygments_lexer": "ipython3",
   "version": "3.11.5"
  }
 },
 "nbformat": 4,
 "nbformat_minor": 5
}
